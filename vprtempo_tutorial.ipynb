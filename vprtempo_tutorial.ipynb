{
 "cells": [
  {
   "cell_type": "markdown",
   "id": "70df0e83-9a35-41b3-81ec-cd12538045ed",
   "metadata": {},
   "source": [
    "## VPRTempo - tutorial"
   ]
  },
  {
   "cell_type": "code",
   "execution_count": 3,
   "id": "ce79b3d3-ed51-4749-98b3-44ea2cfa45e3",
   "metadata": {},
   "outputs": [],
   "source": [
    "import os\n",
    "import torch\n",
    "import gc\n",
    "import sys\n",
    "sys.path.append('./src')\n",
    "sys.path.append('./models')\n",
    "sys.path.append('./settings')\n",
    "sys.path.append('./output')\n",
    "sys.path.append('./dataset')\n",
    "sys.path.append('./config')\n",
    "torch.multiprocessing.set_sharing_strategy(\"file_system\")\n",
    "import blitnet as bn\n",
    "import utils as ut\n",
    "import numpy as np\n",
    "import torch.nn as nn\n",
    "import torch.nn.functional as F\n",
    "import torch.quantization as quantization\n",
    "\n",
    "from config import configure, image_csv, model_logger\n",
    "from dataset import CustomImageDataset, SetImageAsSpikes, ProcessImage\n",
    "from torch.utils.data import DataLoader\n",
    "from torch.ao.quantization import QuantStub, DeQuantStub\n",
    "from tqdm import tqdm"
   ]
  }
 ],
 "metadata": {
  "kernelspec": {
   "display_name": "Python 3 (ipykernel)",
   "language": "python",
   "name": "python3"
  },
  "language_info": {
   "codemirror_mode": {
    "name": "ipython",
    "version": 3
   },
   "file_extension": ".py",
   "mimetype": "text/x-python",
   "name": "python",
   "nbconvert_exporter": "python",
   "pygments_lexer": "ipython3",
   "version": "3.11.4"
  }
 },
 "nbformat": 4,
 "nbformat_minor": 5
}
